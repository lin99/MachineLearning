{
 "cells": [
  {
   "cell_type": "markdown",
   "metadata": {},
   "source": [
    "# Integrantes:\n",
    "####Juan Felipe Baquero Vargas\n",
    "####Lina Fernanda Rosales Castro\n",
    "\n",
    "\n"
   ]
  },
  {
   "cell_type": "markdown",
   "metadata": {},
   "source": [
    "Se realizan los imports necesarios para la actividad"
   ]
  },
  {
   "cell_type": "code",
   "execution_count": 8,
   "metadata": {
    "collapsed": true
   },
   "outputs": [],
   "source": [
    "%matplotlib inline\n",
    "import sklearn as skl\n",
    "import numpy as np\n",
    "import pylab as pl\n",
    "import pandas as pd"
   ]
  },
  {
   "cell_type": "markdown",
   "metadata": {},
   "source": [
    "##Punto 1"
   ]
  },
  {
   "cell_type": "markdown",
   "metadata": {},
   "source": [
    "###A - Expresión utilizando kernerls\n"
   ]
  },
  {
   "cell_type": "markdown",
   "metadata": {},
   "source": [
    "Dado un vecto $w$ en $X$, calcular la norma de la proyección de la imagen en un punto $x$,$\\phi(x)$ en la imagen del vector $w$, $\\phi(w)$:\n",
    "\n",
    "$$P_{\\phi(w)}\\left(\\phi(x)\\right)=\\frac{\\langle\\phi(x),\\phi(y)\\rangle}{\\Vert\\phi(w)\\Vert}$$\n",
    "\n",
    "Por la definición de kernel y la defición de la norma como producto punto: \n",
    "$\\Vert x\\Vert = \\langle x, x\\rangle^\\frac{1}{2}$, se tiene que:\n",
    "$$P_{\\phi(w)}\\left(\\phi(x)\\right)= \\frac{ k(x,w)}{ k(w,w)^{\\frac{1}{2}}}$$\n"
   ]
  },
  {
   "cell_type": "markdown",
   "metadata": {},
   "source": [
    "### B - Varianza de las proyecciones"
   ]
  },
  {
   "cell_type": "markdown",
   "metadata": {},
   "source": [
    "Calcular la varianza de las proyeciones en un espacio de un conjunto de puntos a lo largo de un vector $w$:\n",
    "$$\\mathrm{Var}_{\\phi(w)}(x) = \\frac{1}{n}\\sum_{x_i\\in x}\\left( P_{\\phi(w)}(\\phi(x_i))-\\mu \\right)^2$$\n",
    "\n",
    "donde\n",
    "\n",
    "$$\\mu = \\frac{1}{n}\\sum_{x_i\\in x} P_{\\phi(w)}(\\phi(x_i))$$\n",
    "\n",
    "Utilizando el resultado del literal A se tiene que:\n",
    " \n",
    " $$\\mathrm{Var}_{\\phi(w)}(x) = \\frac{1}{n}\\sum_{x_i\\in x}\\left( \\frac{ k(x,w)}{ k(w,w)^{-\\frac{1}{2}}})-\\mu \\right)^2$$\n",
    " \n",
    " donde \n",
    "\n",
    "$$\\mu = \\frac{1}{n k(w,w)^{\\frac{1}{2}}}\\sum_{x_i\\in x} k(x_i,w)$$"
   ]
  },
  {
   "cell_type": "markdown",
   "metadata": {},
   "source": [
    "###C - Implementacion en Python"
   ]
  },
  {
   "cell_type": "code",
   "execution_count": 132,
   "metadata": {
    "collapsed": false
   },
   "outputs": [],
   "source": [
    "#Definiciòn de kernels\n",
    "def kernel1(x,w):\n",
    "    return np.dot(x,w)\n",
    "\n",
    "def kernel2(x,w):\n",
    "    return np.dot(x,w)**2\n",
    "\n",
    "def kernel3(x,w):\n",
    "    return (np.dot(x,w) + 1)**5\n",
    "\n",
    "def kernel4(x,w):\n",
    "    aux = x - w\n",
    "    return np.exp(-0.5 *np.dot(aux,aux))\n",
    "\n",
    "#Varianza y proyeccion\n",
    "def projection(x,w,k):\n",
    "    return (k(x,w)/(k(w,w)**.5))\n",
    "\n",
    "def variance(xs, w, k):\n",
    "    n = len(xs)\n",
    "    proj = np.array([projection(x,w,k) for x in xs])\n",
    "    m = np.mean(proj)\n",
    "    \n",
    "    rest = (proj - m)**2\n",
    "    \n",
    "    suma = np.sum(rest)\n",
    "\n",
    "    return (1.0/n)*suma\n",
    "    \n",
    "    "
   ]
  },
  {
   "cell_type": "code",
   "execution_count": 133,
   "metadata": {
    "collapsed": false
   },
   "outputs": [],
   "source": [
    "xs = np.array([[ 0,  1], \n",
    "               [-1,  3],\n",
    "               [ 2,  4],\n",
    "               [ 3, -1],\n",
    "               [-1, -2]])\n",
    "\n",
    "w1 = np.array([ 1, 1])\n",
    "\n",
    "w2 = np.array([ -1, 1])\n",
    "\n",
    "ks = [kernel1,kernel2,kernel3,kernel4]"
   ]
  },
  {
   "cell_type": "code",
   "execution_count": 135,
   "metadata": {
    "collapsed": false
   },
   "outputs": [
    {
     "data": {
      "text/html": [
       "<div style=\"max-height:1000px;max-width:1500px;overflow:auto;\">\n",
       "<table border=\"1\" class=\"dataframe\">\n",
       "  <thead>\n",
       "    <tr style=\"text-align: right;\">\n",
       "      <th></th>\n",
       "      <th>$\\mathbf{w}_1$</th>\n",
       "      <th>$\\mathbf{w}_2$</th>\n",
       "    </tr>\n",
       "  </thead>\n",
       "  <tbody>\n",
       "    <tr>\n",
       "      <th>Kernel 1</th>\n",
       "      <td>      4.120000</td>\n",
       "      <td>    3.720000</td>\n",
       "    </tr>\n",
       "    <tr>\n",
       "      <th>Kernel 2</th>\n",
       "      <td>     41.340000</td>\n",
       "      <td>   12.060000</td>\n",
       "    </tr>\n",
       "    <tr>\n",
       "      <th>Kernel 3</th>\n",
       "      <td> 183362.819095</td>\n",
       "      <td> 6494.993580</td>\n",
       "    </tr>\n",
       "    <tr>\n",
       "      <th>Kernel 4</th>\n",
       "      <td>      0.056747</td>\n",
       "      <td>    0.054575</td>\n",
       "    </tr>\n",
       "  </tbody>\n",
       "</table>\n",
       "</div>"
      ],
      "text/plain": [
       "          $\\mathbf{w}_1$  $\\mathbf{w}_2$\n",
       "Kernel 1        4.120000        3.720000\n",
       "Kernel 2       41.340000       12.060000\n",
       "Kernel 3   183362.819095     6494.993580\n",
       "Kernel 4        0.056747        0.054575"
      ]
     },
     "execution_count": 135,
     "metadata": {},
     "output_type": "execute_result"
    }
   ],
   "source": [
    "wk1 = []\n",
    "wk2 = []\n",
    "\n",
    "for idx in xrange(len(ks)):\n",
    "    wk1.append((variance(xs,w1,ks[idx])))\n",
    "\n",
    "\n",
    "for idx in xrange(len(ks)):\n",
    "    wk2.append(variance(xs,w2,ks[idx]))\n",
    "\n",
    "wk1=np.array(wk1)\n",
    "wk2=np.array(wk2)\n",
    "\n",
    "wk1 = wk1.T\n",
    "wk2= wk2.T\n",
    "wi = zip(wk1,wk2)\n",
    "\n",
    "pd.DataFrame(data=wi, columns=['$\\mathbf{w}_1$', '$\\mathbf{w}_2$'], index=['Kernel 1', 'Kernel 2', 'Kernel 3', 'Kernel 4'])"
   ]
  },
  {
   "cell_type": "markdown",
   "metadata": {},
   "source": [
    "##Punto 2"
   ]
  },
  {
   "cell_type": "markdown",
   "metadata": {},
   "source": [
    "##Punto 3"
   ]
  },
  {
   "cell_type": "markdown",
   "metadata": {},
   "source": [
    "##Punto 4"
   ]
  },
  {
   "cell_type": "code",
   "execution_count": null,
   "metadata": {
    "collapsed": true
   },
   "outputs": [],
   "source": []
  }
 ],
 "metadata": {
  "kernelspec": {
   "display_name": "Python 2",
   "language": "python",
   "name": "python2"
  },
  "language_info": {
   "codemirror_mode": {
    "name": "ipython",
    "version": 2
   },
   "file_extension": ".py",
   "mimetype": "text/x-python",
   "name": "python",
   "nbconvert_exporter": "python",
   "pygments_lexer": "ipython2",
   "version": "2.7.8"
  }
 },
 "nbformat": 4,
 "nbformat_minor": 0
}
