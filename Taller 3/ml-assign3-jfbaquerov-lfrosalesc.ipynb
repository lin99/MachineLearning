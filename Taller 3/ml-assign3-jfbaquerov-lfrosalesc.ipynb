{
 "cells": [
  {
   "cell_type": "markdown",
   "metadata": {},
   "source": [
    "# Integrantes:\n",
    "####Juan Felipe Baquero Vargas\n",
    "####Lina Fernanda Rosales Castro\n",
    "\n",
    "\n"
   ]
  },
  {
   "cell_type": "markdown",
   "metadata": {},
   "source": [
    "Se realizan los imports necesarios para la actividad"
   ]
  },
  {
   "cell_type": "code",
   "execution_count": 2,
   "metadata": {
    "collapsed": true
   },
   "outputs": [],
   "source": [
    "%matplotlib inline\n",
    "import sklearn as skl\n",
    "import numpy as n\n",
    "import pylab as pl\n",
    "import pandas as pd"
   ]
  },
  {
   "cell_type": "markdown",
   "metadata": {},
   "source": [
    "##Punto 1"
   ]
  },
  {
   "cell_type": "markdown",
   "metadata": {},
   "source": [
    "###A - Expresión utilizando kernerls\n"
   ]
  },
  {
   "cell_type": "markdown",
   "metadata": {},
   "source": [
    "Dado un vecto $w$ en $X$, calcular la norma de la proyección de la imagen en un punto $x$,$\\phi(x)$ en la imagen del vector $w$, $\\phi(w)$:\n",
    "\n",
    "$$P_{\\phi(w)}\\left(\\phi(x)\\right)=\\frac{\\langle\\phi(x),\\phi(y)\\rangle}{\\Vert\\phi(w)\\Vert}$$\n",
    "\n",
    "Por la definición de kernel y la defición de la norma como producto punto: \n",
    "$\\Vert x\\Vert = \\langle x, x\\rangle^\\frac{1}{2}$, se tiene que:\n",
    "$$P_{\\phi(w)}\\left(\\phi(x)\\right)= \\frac{ k(x,w)}{ k(w,w)^{-\\frac{1}{2}}}$$\n"
   ]
  },
  {
   "cell_type": "markdown",
   "metadata": {},
   "source": [
    "### B - Varianza de las proyecciones"
   ]
  },
  {
   "cell_type": "markdown",
   "metadata": {},
   "source": [
    "Calcular la varianza de las proyeciones en un espacio de un conjunto de puntos a lo largo de un vector $w$:\n",
    "$$\\mathrm{Var}_{\\phi(w)}(x) = \\frac{1}{n}\\sum_{x_i\\in x}\\left( P_{\\phi(w)}(\\phi(x_i))-\\mu \\right)^2$$\n",
    "\n",
    "donde\n",
    "\n",
    "$$\\mu = \\frac{1}{n}\\sum_{x_i\\in x} P_{\\phi(w)}(\\phi(x_i))$$\n",
    "\n",
    "Utilizando el resultado del literal A se tiene que:\n",
    " \n",
    " $$\\mathrm{Var}_{\\phi(w)}(x) = \\frac{1}{n}\\sum_{x_i\\in x}\\left( \\frac{ k(x,w)}{ k(w,w)^{-\\frac{1}{2}}})-\\mu \\right)^2$$\n",
    " \n",
    " donde \n",
    "\n",
    "$$\\mu = \\frac{1}{n k(w,w)^{-\\frac{1}{2}}}\\sum_{x_i\\in x} k(x_i,w)$$"
   ]
  },
  {
   "cell_type": "code",
   "execution_count": null,
   "metadata": {
    "collapsed": true
   },
   "outputs": [],
   "source": []
  }
 ],
 "metadata": {
  "kernelspec": {
   "display_name": "Python 2",
   "language": "python",
   "name": "python2"
  },
  "language_info": {
   "codemirror_mode": {
    "name": "ipython",
    "version": 2
   },
   "file_extension": ".py",
   "mimetype": "text/x-python",
   "name": "python",
   "nbconvert_exporter": "python",
   "pygments_lexer": "ipython2",
   "version": "2.7.8"
  }
 },
 "nbformat": 4,
 "nbformat_minor": 0
}
