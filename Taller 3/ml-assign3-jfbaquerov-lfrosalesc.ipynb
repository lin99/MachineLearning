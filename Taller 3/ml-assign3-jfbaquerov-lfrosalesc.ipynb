{
 "cells": [
  {
   "cell_type": "markdown",
   "metadata": {},
   "source": [
    "# Integrantes:\n",
    "####Juan Felipe Baquero Vargas\n",
    "####Lina Fernanda Rosales Castro\n",
    "\n",
    "\n"
   ]
  },
  {
   "cell_type": "markdown",
   "metadata": {},
   "source": [
    "Se realizan los imports necesarios para la actividad"
   ]
  },
  {
   "cell_type": "code",
   "execution_count": 2,
   "metadata": {
    "collapsed": true
   },
   "outputs": [],
   "source": [
    "%matplotlib inline\n",
    "import sklearn as skl\n",
    "import numpy as n\n",
    "import pylab as pl\n",
    "import pandas as pd"
   ]
  },
  {
   "cell_type": "markdown",
   "metadata": {},
   "source": [
    "##Punto 1"
   ]
  },
  {
   "cell_type": "markdown",
   "metadata": {},
   "source": [
    "###A - Expresión utilizando kernerls\n"
   ]
  },
  {
   "cell_type": "markdown",
   "metadata": {},
   "source": [
    "Dado un vecto $w$ en $X$, calcular la norma de la proyección de la imagen en un punto $x$ donde  la proyección $\\phi(x)$ en el ve \n",
    "Recalling the definition of $k$, and that the norm can be defined from the dot product as $\\Vert x\\Vert = \\langle x, x\\rangle^\\frac{1}{2}$, we obtain that\n",
    "$$P_{\\phi(w)}\\left(\\phi(x)\\right)=k(x,w) k(w,w)^{-\\frac{1}{2}}$$"
   ]
  },
  {
   "cell_type": "code",
   "execution_count": null,
   "metadata": {
    "collapsed": true
   },
   "outputs": [],
   "source": []
  }
 ],
 "metadata": {
  "kernelspec": {
   "display_name": "Python 2",
   "language": "python",
   "name": "python2"
  },
  "language_info": {
   "codemirror_mode": {
    "name": "ipython",
    "version": 2
   },
   "file_extension": ".py",
   "mimetype": "text/x-python",
   "name": "python",
   "nbconvert_exporter": "python",
   "pygments_lexer": "ipython2",
   "version": "2.7.8"
  }
 },
 "nbformat": 4,
 "nbformat_minor": 0
}
